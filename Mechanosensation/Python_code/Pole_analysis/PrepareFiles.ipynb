{
 "cells": [
  {
   "cell_type": "code",
   "execution_count": 1,
   "metadata": {},
   "outputs": [],
   "source": [
    "import os\n",
    "import glob\n",
    "import pandas as pd"
   ]
  },
  {
   "cell_type": "code",
   "execution_count": 2,
   "metadata": {},
   "outputs": [],
   "source": [
    "def combine_csv_files(root_path, data_path, save_directory, saved_file, Combine_Data, BioRep):\n",
    "    os.chdir(data_path)\n",
    "    extension = 'csv'\n",
    "    list_csv = []\n",
    "    for root, dirs, files in os.walk(data_path, topdown=False):\n",
    "        for name in files:\n",
    "            if extension in name:\n",
    "                list_csv.append(os.path.join(root, name))\n",
    "    #print(list_csv)\n",
    "    os.chdir(root_path)\n",
    "    new_dir = save_directory\n",
    "    if not os.path.exists(new_dir):\n",
    "        os.mkdir(new_dir)\n",
    "    os.chdir(new_dir)\n",
    "    combined_csv = pd.concat([pd.read_csv(f) for f in list_csv ], sort=False)\n",
    "    raw_names=list(combined_csv.Label.unique())\n",
    "    #print(raw_names)\n",
    "    if not Combine_Data:\n",
    "        combined_csv['Strain'] = 'nan'\n",
    "        combined_csv['Growth'] = 'nan'\n",
    "        for file in raw_names:\n",
    "            #print(file)\n",
    "            split_name=file.rsplit('_event',100)[0].rsplit('_',100)\n",
    "            if 'Agarose' in split_name or 'sol' in split_name or 'Agar' in split_name:\n",
    "                growth='Solid'\n",
    "                if 'Agarose' in split_name:\n",
    "                    growthInd = split_name.index('Agarose')\n",
    "                elif 'sol' in split_name:\n",
    "                    growthInd = split_name.index('sol')\n",
    "                elif 'Agar' in split_name:\n",
    "                    growthInd = split_name.index('Agar')\n",
    "            else:\n",
    "                growth='Liquid'\n",
    "                if 'liq' in split_name:\n",
    "                    growthInd = split_name.index('liq')\n",
    "                else:\n",
    "                    growthInd = len(split_name)-3\n",
    "            separator = '_'\n",
    "            strain =  separator.join(split_name[0:growthInd])\n",
    "            combined_csv.Strain.loc[(combined_csv['Label']==file)]=strain\n",
    "            combined_csv.Growth.loc[(combined_csv['Label']==file)]=growth\n",
    "            combined_csv.BiologicalReplicate = BioRep\n",
    "    combined_csv.to_csv( saved_file, index=False, encoding='utf-8-sig')\n",
    "    return combined_csv"
   ]
  },
  {
   "cell_type": "code",
   "execution_count": 3,
   "metadata": {},
   "outputs": [
    {
     "data": {
      "text/plain": [
       "3"
      ]
     },
     "execution_count": 3,
     "metadata": {},
     "output_type": "execute_result"
    }
   ],
   "source": [
    "root_path=\"C:/users/Iscia/Desktop/git/PhD_codes/Mechanosensation/Python_code/Pole_analysis/\"\n",
    "data_path=\"C:/users/Iscia/Downloads/4-Mechanosensation/\"\n",
    "strain_dirs = [os.path.join(data_path, o) for o in os.listdir(data_path) if os.path.isdir(os.path.join(data_path, o))]\n",
    "len(strain_dirs)"
   ]
  },
  {
   "cell_type": "code",
   "execution_count": 4,
   "metadata": {},
   "outputs": [
    {
     "name": "stdout",
     "output_type": "stream",
     "text": [
      "C:/users/Iscia/Downloads/4-Mechanosensation/pilB\\11 mars\n"
     ]
    },
    {
     "name": "stderr",
     "output_type": "stream",
     "text": [
      "C:\\ProgramData\\Anaconda3\\lib\\site-packages\\pandas\\core\\indexing.py:670: SettingWithCopyWarning: \n",
      "A value is trying to be set on a copy of a slice from a DataFrame\n",
      "\n",
      "See the caveats in the documentation: https://pandas.pydata.org/pandas-docs/stable/user_guide/indexing.html#returning-a-view-versus-a-copy\n",
      "  iloc._setitem_with_indexer(indexer, value)\n"
     ]
    },
    {
     "name": "stdout",
     "output_type": "stream",
     "text": [
      "C:/users/Iscia/Downloads/4-Mechanosensation/pilB\\14 mai\n",
      "C:/users/Iscia/Downloads/4-Mechanosensation/pilB\\22 sep\n",
      "C:/users/Iscia/Downloads/4-Mechanosensation/pilB\\26 mai\n",
      "C:/users/Iscia/Downloads/4-Mechanosensation/pilB\\31 jan\n",
      "C:/users/Iscia/Downloads/4-Mechanosensation/pilB\\7 mai\n",
      "C:/users/Iscia/Downloads/4-Mechanosensation/pilT\\11 mars\n",
      "C:/users/Iscia/Downloads/4-Mechanosensation/pilT\\15 mai\n",
      "C:/users/Iscia/Downloads/4-Mechanosensation/pilT\\3i jan\n",
      "C:/users/Iscia/Downloads/4-Mechanosensation/pilT\\6 mai\n",
      "C:/users/Iscia/Downloads/4-Mechanosensation/pilT\\8 mai\n",
      "C:/users/Iscia/Downloads/4-Mechanosensation/pilU\\11 mars\n",
      "C:/users/Iscia/Downloads/4-Mechanosensation/pilU\\15 mai\n",
      "C:/users/Iscia/Downloads/4-Mechanosensation/pilU\\31 jan\n",
      "C:/users/Iscia/Downloads/4-Mechanosensation/pilU\\6 mai\n",
      "C:/users/Iscia/Downloads/4-Mechanosensation/pilU\\8 mai\n"
     ]
    }
   ],
   "source": [
    "extension = \".csv\"\n",
    "for path in strain_dirs:\n",
    "    biorep_dirs = [os.path.join(path, o) for o in os.listdir(path) if os.path.isdir(os.path.join(path, o))]\n",
    "    for i, br_dir in enumerate(biorep_dirs):\n",
    "        print(br_dir)\n",
    "        combine_csv_files(path, br_dir, \"BioReps\", \"combined_csv_files_BR=\" + str(i+1) + extension, False, i+1)"
   ]
  },
  {
   "cell_type": "code",
   "execution_count": 5,
   "metadata": {},
   "outputs": [],
   "source": [
    "for strain_path in strain_dirs:\n",
    "    combine_csv_files(strain_path, os.path.join(strain_path, \"BioReps\"),\"Combined_Data\", \"AllBioReps.csv\", True, 1)"
   ]
  },
  {
   "cell_type": "code",
   "execution_count": null,
   "metadata": {},
   "outputs": [],
   "source": []
  }
 ],
 "metadata": {
  "kernelspec": {
   "display_name": "Python 3",
   "language": "python",
   "name": "python3"
  },
  "language_info": {
   "codemirror_mode": {
    "name": "ipython",
    "version": 3
   },
   "file_extension": ".py",
   "mimetype": "text/x-python",
   "name": "python",
   "nbconvert_exporter": "python",
   "pygments_lexer": "ipython3",
   "version": "3.8.5"
  }
 },
 "nbformat": 4,
 "nbformat_minor": 4
}
