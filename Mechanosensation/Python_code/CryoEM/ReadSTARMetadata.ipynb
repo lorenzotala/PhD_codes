{
 "cells": [
  {
   "cell_type": "code",
   "execution_count": 1,
   "metadata": {},
   "outputs": [],
   "source": [
    "# import pandas as pd \n",
    "import pandas as pd \n",
    "from tkinter import Tk     # from tkinter import Tk for Python 3.x\n",
    "from tkinter.filedialog import askopenfilename"
   ]
  },
  {
   "cell_type": "code",
   "execution_count": 8,
   "metadata": {},
   "outputs": [
    {
     "name": "stdout",
     "output_type": "stream",
     "text": [
      "C:/Users/Lorenzo/Desktop/git/PhD_codes/Mechanosensation/Python_code/CryoEM/t8v/run_it025_model.star\n"
     ]
    }
   ],
   "source": [
    "Tk().withdraw() # we don't want a full GUI, so keep the root window from appearing\n",
    "filename = askopenfilename() # show an \"Open\" dialog box and return the path to the selected file\n",
    "print(filename)"
   ]
  },
  {
   "cell_type": "code",
   "execution_count": 9,
   "metadata": {},
   "outputs": [
    {
     "data": {
      "text/plain": [
       "'C:/Users/Lorenzo/Desktop/git/PhD_codes/Mechanosensation/Python_code/CryoEM/t8v'"
      ]
     },
     "execution_count": 9,
     "metadata": {},
     "output_type": "execute_result"
    }
   ],
   "source": [
    "folder_path = filename.rsplit(\"/\",1)[0]\n",
    "folder_path"
   ]
  },
  {
   "cell_type": "code",
   "execution_count": 10,
   "metadata": {},
   "outputs": [],
   "source": [
    "file = open(filename)\n",
    "STAR_file_lines = file.read().split(\"\\n\")\n",
    "file.close()"
   ]
  },
  {
   "cell_type": "code",
   "execution_count": 11,
   "metadata": {},
   "outputs": [],
   "source": [
    "data_model_classes = [s for s, strings in enumerate(STAR_file_lines) if \"data_model_classes\" in strings]\n",
    "Versions_loc= [s for s, strings in enumerate(STAR_file_lines) if \"# version\" in strings]\n",
    "stop_loop = [val for s, val in enumerate(Versions_loc) if val > data_model_classes[0]]\n",
    "\n",
    "classes_metadata=STAR_file_lines[data_model_classes[0]:min(stop_loop)]\n",
    "classes_metadata_headers = [val.split(\" \")[0] for s, val in enumerate(classes_metadata) if \"#\" in val]\n",
    "classes_metadata_data = [val.split(\" \") for s, val in enumerate(classes_metadata) if \"@\" in val]\n",
    "for i, val in enumerate(classes_metadata_data):\n",
    "    while '' in classes_metadata_data[i]:\n",
    "        classes_metadata_data[i].remove('')\n"
   ]
  },
  {
   "cell_type": "code",
   "execution_count": 12,
   "metadata": {},
   "outputs": [
    {
     "data": {
      "text/html": [
       "<div>\n",
       "<style scoped>\n",
       "    .dataframe tbody tr th:only-of-type {\n",
       "        vertical-align: middle;\n",
       "    }\n",
       "\n",
       "    .dataframe tbody tr th {\n",
       "        vertical-align: top;\n",
       "    }\n",
       "\n",
       "    .dataframe thead th {\n",
       "        text-align: right;\n",
       "    }\n",
       "</style>\n",
       "<table border=\"1\" class=\"dataframe\">\n",
       "  <thead>\n",
       "    <tr style=\"text-align: right;\">\n",
       "      <th></th>\n",
       "      <th>index</th>\n",
       "      <th>_rlnReferenceImage</th>\n",
       "      <th>_rlnClassDistribution</th>\n",
       "      <th>_rlnAccuracyRotations</th>\n",
       "      <th>_rlnAccuracyTranslationsAngst</th>\n",
       "      <th>_rlnEstimatedResolution</th>\n",
       "      <th>_rlnOverallFourierCompleteness</th>\n",
       "      <th>_rlnClassPriorOffsetX</th>\n",
       "      <th>_rlnClassPriorOffsetY</th>\n",
       "      <th>_rlnHelicalRise</th>\n",
       "      <th>_rlnHelicalTwist</th>\n",
       "    </tr>\n",
       "  </thead>\n",
       "  <tbody>\n",
       "    <tr>\n",
       "      <th>0</th>\n",
       "      <td>0</td>\n",
       "      <td>000001@Class2D/job023/run_it025_classes.mrcs</td>\n",
       "      <td>0.044804</td>\n",
       "      <td>0.100000</td>\n",
       "      <td>0.116600</td>\n",
       "      <td>5.773617</td>\n",
       "      <td>1.000000</td>\n",
       "      <td>0.006789</td>\n",
       "      <td>-0.00583</td>\n",
       "      <td>6.785000</td>\n",
       "      <td>0.000000</td>\n",
       "    </tr>\n",
       "    <tr>\n",
       "      <th>1</th>\n",
       "      <td>1</td>\n",
       "      <td>000002@Class2D/job023/run_it025_classes.mrcs</td>\n",
       "      <td>0.043130</td>\n",
       "      <td>0.100000</td>\n",
       "      <td>0.106000</td>\n",
       "      <td>5.773617</td>\n",
       "      <td>0.987974</td>\n",
       "      <td>-0.00287</td>\n",
       "      <td>0.005001</td>\n",
       "      <td>6.785000</td>\n",
       "      <td>0.000000</td>\n",
       "    </tr>\n",
       "    <tr>\n",
       "      <th>2</th>\n",
       "      <td>2</td>\n",
       "      <td>000003@Class2D/job023/run_it025_classes.mrcs</td>\n",
       "      <td>0.051705</td>\n",
       "      <td>0.100000</td>\n",
       "      <td>0.116600</td>\n",
       "      <td>5.773617</td>\n",
       "      <td>1.000000</td>\n",
       "      <td>0.004884</td>\n",
       "      <td>-0.01720</td>\n",
       "      <td>6.785000</td>\n",
       "      <td>0.000000</td>\n",
       "    </tr>\n",
       "    <tr>\n",
       "      <th>3</th>\n",
       "      <td>3</td>\n",
       "      <td>000004@Class2D/job023/run_it025_classes.mrcs</td>\n",
       "      <td>0.038869</td>\n",
       "      <td>0.100000</td>\n",
       "      <td>0.106000</td>\n",
       "      <td>5.773617</td>\n",
       "      <td>1.000000</td>\n",
       "      <td>-0.00359</td>\n",
       "      <td>-0.06048</td>\n",
       "      <td>6.785000</td>\n",
       "      <td>0.000000</td>\n",
       "    </tr>\n",
       "    <tr>\n",
       "      <th>4</th>\n",
       "      <td>4</td>\n",
       "      <td>000005@Class2D/job023/run_it025_classes.mrcs</td>\n",
       "      <td>0.034721</td>\n",
       "      <td>0.100000</td>\n",
       "      <td>0.106000</td>\n",
       "      <td>5.899130</td>\n",
       "      <td>0.995905</td>\n",
       "      <td>-0.00162</td>\n",
       "      <td>-0.03810</td>\n",
       "      <td>6.785000</td>\n",
       "      <td>0.000000</td>\n",
       "    </tr>\n",
       "  </tbody>\n",
       "</table>\n",
       "</div>"
      ],
      "text/plain": [
       "   index                            _rlnReferenceImage _rlnClassDistribution  \\\n",
       "0      0  000001@Class2D/job023/run_it025_classes.mrcs              0.044804   \n",
       "1      1  000002@Class2D/job023/run_it025_classes.mrcs              0.043130   \n",
       "2      2  000003@Class2D/job023/run_it025_classes.mrcs              0.051705   \n",
       "3      3  000004@Class2D/job023/run_it025_classes.mrcs              0.038869   \n",
       "4      4  000005@Class2D/job023/run_it025_classes.mrcs              0.034721   \n",
       "\n",
       "  _rlnAccuracyRotations _rlnAccuracyTranslationsAngst _rlnEstimatedResolution  \\\n",
       "0              0.100000                      0.116600                5.773617   \n",
       "1              0.100000                      0.106000                5.773617   \n",
       "2              0.100000                      0.116600                5.773617   \n",
       "3              0.100000                      0.106000                5.773617   \n",
       "4              0.100000                      0.106000                5.899130   \n",
       "\n",
       "  _rlnOverallFourierCompleteness _rlnClassPriorOffsetX _rlnClassPriorOffsetY  \\\n",
       "0                       1.000000              0.006789              -0.00583   \n",
       "1                       0.987974              -0.00287              0.005001   \n",
       "2                       1.000000              0.004884              -0.01720   \n",
       "3                       1.000000              -0.00359              -0.06048   \n",
       "4                       0.995905              -0.00162              -0.03810   \n",
       "\n",
       "  _rlnHelicalRise _rlnHelicalTwist  \n",
       "0        6.785000         0.000000  \n",
       "1        6.785000         0.000000  \n",
       "2        6.785000         0.000000  \n",
       "3        6.785000         0.000000  \n",
       "4        6.785000         0.000000  "
      ]
     },
     "execution_count": 12,
     "metadata": {},
     "output_type": "execute_result"
    }
   ],
   "source": [
    "# Calling DataFrame constructor on list \n",
    "df = pd.DataFrame(classes_metadata_data, columns = classes_metadata_headers).reset_index()\n",
    "df.head()"
   ]
  },
  {
   "cell_type": "code",
   "execution_count": 13,
   "metadata": {},
   "outputs": [],
   "source": [
    "df.to_csv(folder_path+\"/\"+\"metadata.csv\", encoding='utf-8-sig')"
   ]
  },
  {
   "cell_type": "code",
   "execution_count": null,
   "metadata": {},
   "outputs": [],
   "source": []
  }
 ],
 "metadata": {
  "kernelspec": {
   "display_name": "Python 3",
   "language": "python",
   "name": "python3"
  },
  "language_info": {
   "codemirror_mode": {
    "name": "ipython",
    "version": 3
   },
   "file_extension": ".py",
   "mimetype": "text/x-python",
   "name": "python",
   "nbconvert_exporter": "python",
   "pygments_lexer": "ipython3",
   "version": "3.8.5"
  }
 },
 "nbformat": 4,
 "nbformat_minor": 4
}
