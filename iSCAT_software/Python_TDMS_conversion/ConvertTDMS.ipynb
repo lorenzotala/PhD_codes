{
 "cells": [
  {
   "cell_type": "code",
   "execution_count": 1,
   "metadata": {},
   "outputs": [
    {
     "name": "stderr",
     "output_type": "stream",
     "text": [
      "[nptdms.tdms_segment WARNING] Data size 314580000 is not a multiple of the chunk size 314572800. Will attempt to read last chunk\n",
      "C:\\Users\\Lorenzo\\AppData\\Local\\Temp\\ipykernel_11364\\714385739.py:26: UserWarning: RawStack.tif is a low contrast image\n",
      "  io.imsave('RawStack.tif' ,img_stack)\n",
      "C:\\Users\\Lorenzo\\AppData\\Local\\Temp\\ipykernel_11364\\714385739.py:34: UserWarning: ProcessedStack.tif is a low contrast image\n",
      "  io.imsave('ProcessedStack.tif' ,processed_stack)\n"
     ]
    },
    {
     "name": "stdout",
     "output_type": "stream",
     "text": [
      "27.254345100000002\n"
     ]
    }
   ],
   "source": [
    "from timeit import default_timer as timer\n",
    "Start = timer()\n",
    "import pandas as pd\n",
    "import numpy as np\n",
    "import os\n",
    "\n",
    "from nptdms import TdmsFile\n",
    "from PIL import Image\n",
    "from skimage import io\n",
    "\n",
    "tdms_file = TdmsFile.read(\"T:/Sauvegardes PhD/Microscopy/Microscopy data/iSCAT data/2022/July/5/20220705_177_5ul_min_flow_microchanel_cell_body_0/cam1/event1.tdms\")\n",
    "for group in tdms_file.groups():\n",
    "    group_name = group.name\n",
    "    for channel in group.channels():\n",
    "        channel_name = channel.name\n",
    "        # Access dictionary of properties:\n",
    "        properties = channel.properties\n",
    "        # Access numpy array of data for channel:\n",
    "        data = channel[:]\n",
    "img_size = int([item[1] for item in list(properties.items()) if 'Image size' in item][0])\n",
    "nb_frames = int(np.round(data.size/(img_size**2)))\n",
    "img_stack = np.zeros((nb_frames,img_size,img_size),np.uint16)\n",
    "for f in range(nb_frames):\n",
    "    #frame_data = data[(img_size**2)*f:(img_size**2)*(f+1)].reshape(img_size, img_size)\n",
    "    img_stack[f, :, :] = data[(img_size**2)*f:(img_size**2)*(f+1)].reshape(img_size, img_size) #Image.fromarray(frame_data, 'I;16')\n",
    "io.imsave('RawStack.tif' ,img_stack)\n",
    "median_img = np.zeros((img_size, img_size), np.float32)\n",
    "for x in range(img_size):\n",
    "    for y in range(img_size):\n",
    "        median_img[x,y] = np.mean(img_stack[:,x,y])\n",
    "processed_stack = np.zeros((nb_frames,img_size,img_size),np.float32)\n",
    "for f in range(nb_frames):\n",
    "    processed_stack[f, :, :] = np.divide(img_stack[f, :, :], median_img)-1\n",
    "io.imsave('ProcessedStack.tif' ,processed_stack)\n",
    "End = timer()\n",
    "print(End - Start)"
   ]
  },
  {
   "cell_type": "code",
   "execution_count": 2,
   "metadata": {},
   "outputs": [
    {
     "name": "stderr",
     "output_type": "stream",
     "text": [
      "[nptdms.tdms_segment WARNING] Data size 52440000 is not a multiple of the chunk size 52428800. Will attempt to read last chunk\n",
      "C:\\Users\\Lorenzo\\AppData\\Local\\Temp\\ipykernel_13736\\3005986191.py:17: UserWarning: RawStack2.tif is a low contrast image\n",
      "  io.imsave('RawStack2.tif' ,img_stack)\n",
      "C:\\Users\\Lorenzo\\AppData\\Local\\Temp\\ipykernel_13736\\3005986191.py:25: UserWarning: ProcessedStack2.tif is a low contrast image\n",
      "  io.imsave('ProcessedStack2.tif' ,processed_stack)\n"
     ]
    },
    {
     "name": "stdout",
     "output_type": "stream",
     "text": [
      "9.1730612\n"
     ]
    }
   ],
   "source": [
    "Start = timer()\n",
    "tdms_file = TdmsFile.read(\"event1.tdms\")\n",
    "for group in tdms_file.groups():\n",
    "    group_name = group.name\n",
    "    for channel in group.channels():\n",
    "        channel_name = channel.name\n",
    "        # Access dictionary of properties:\n",
    "        properties = channel.properties\n",
    "        # Access numpy array of data for channel:\n",
    "        data = channel[:]\n",
    "img_size = int([item[1] for item in list(properties.items()) if 'Image size' in item][0])\n",
    "nb_frames = int(np.round(data.size/(img_size**2)))\n",
    "img_stack = np.zeros((nb_frames,img_size,img_size),np.uint16)\n",
    "for f in range(nb_frames):\n",
    "    #frame_data = data[(img_size**2)*f:(img_size**2)*(f+1)].reshape(img_size, img_size)\n",
    "    img_stack[f, :, :] = data[(img_size**2)*f:(img_size**2)*(f+1)].reshape(img_size, img_size) #Image.fromarray(frame_data, 'I;16')\n",
    "io.imsave('RawStack2.tif' ,img_stack)\n",
    "median_img = np.zeros((img_size, img_size), np.float32)\n",
    "for x in range(img_size):\n",
    "    for y in range(img_size):\n",
    "        median_img[x,y] = np.median(img_stack[:,x,y])\n",
    "processed_stack = np.zeros((nb_frames,img_size,img_size),np.float32)\n",
    "for f in range(nb_frames):\n",
    "    processed_stack[f, :, :] = np.divide(img_stack[f, :, :], median_img)-1\n",
    "io.imsave('ProcessedStack2.tif' ,processed_stack)\n",
    "End = timer()\n",
    "print(End - Start)"
   ]
  },
  {
   "cell_type": "code",
   "execution_count": 3,
   "metadata": {},
   "outputs": [
    {
     "name": "stderr",
     "output_type": "stream",
     "text": [
      "C:\\Users\\Lorenzo\\AppData\\Local\\Temp\\ipykernel_13736\\190845154.py:9: UserWarning: ProcessedStack3.tif is a low contrast image\n",
      "  io.imsave('ProcessedStack3.tif' ,processed_stack)\n"
     ]
    },
    {
     "name": "stdout",
     "output_type": "stream",
     "text": [
      "8.768867100000008\n"
     ]
    }
   ],
   "source": [
    "Start = timer()\n",
    "median_img = np.zeros((img_size, img_size), np.float32)\n",
    "for x in range(img_size):\n",
    "    for y in range(img_size):\n",
    "        median_img[x,y] = np.median(img_stack[:,x,y])\n",
    "processed_stack = np.zeros((nb_frames,img_size,img_size),np.float32)\n",
    "for f in range(nb_frames):\n",
    "    processed_stack[f, :, :] = np.divide(img_stack[f, :, :], median_img)-1\n",
    "io.imsave('ProcessedStack3.tif' ,processed_stack)\n",
    "End = timer()\n",
    "print(End - Start)"
   ]
  },
  {
   "cell_type": "code",
   "execution_count": 8,
   "metadata": {},
   "outputs": [
    {
     "ename": "AttributeError",
     "evalue": "dtype",
     "output_type": "error",
     "traceback": [
      "\u001b[1;31m---------------------------------------------------------------------------\u001b[0m",
      "\u001b[1;31mAttributeError\u001b[0m                            Traceback (most recent call last)",
      "Cell \u001b[1;32mIn[8], line 5\u001b[0m\n\u001b[0;32m      3\u001b[0m data[\u001b[38;5;241m0\u001b[39m:\u001b[38;5;241m256\u001b[39m, \u001b[38;5;241m0\u001b[39m:\u001b[38;5;241m256\u001b[39m] \u001b[38;5;241m=\u001b[39m [\u001b[38;5;241m255\u001b[39m, \u001b[38;5;241m0\u001b[39m, \u001b[38;5;241m0\u001b[39m] \u001b[38;5;66;03m# red patch in upper left\u001b[39;00m\n\u001b[0;32m      4\u001b[0m img \u001b[38;5;241m=\u001b[39m Image\u001b[38;5;241m.\u001b[39mfromarray(data, mode\u001b[38;5;241m=\u001b[39m\u001b[38;5;124m'\u001b[39m\u001b[38;5;124mI;16\u001b[39m\u001b[38;5;124m'\u001b[39m)\n\u001b[1;32m----> 5\u001b[0m \u001b[43mio\u001b[49m\u001b[38;5;241;43m.\u001b[39;49m\u001b[43mimsave\u001b[49m\u001b[43m(\u001b[49m\u001b[38;5;124;43m'\u001b[39;49m\u001b[38;5;124;43mtest.tif\u001b[39;49m\u001b[38;5;124;43m'\u001b[39;49m\u001b[43m \u001b[49m\u001b[43m,\u001b[49m\u001b[43mimg\u001b[49m\u001b[43m)\u001b[49m\n\u001b[0;32m      6\u001b[0m img\u001b[38;5;241m.\u001b[39mshow()\n",
      "File \u001b[1;32m~\\anaconda3\\lib\\site-packages\\skimage\\io\\_io.py:136\u001b[0m, in \u001b[0;36mimsave\u001b[1;34m(fname, arr, plugin, check_contrast, **plugin_args)\u001b[0m\n\u001b[0;32m    134\u001b[0m     \u001b[38;5;28;01mif\u001b[39;00m fname\u001b[38;5;241m.\u001b[39mlower()\u001b[38;5;241m.\u001b[39mendswith((\u001b[38;5;124m'\u001b[39m\u001b[38;5;124m.tiff\u001b[39m\u001b[38;5;124m'\u001b[39m, \u001b[38;5;124m'\u001b[39m\u001b[38;5;124m.tif\u001b[39m\u001b[38;5;124m'\u001b[39m)):\n\u001b[0;32m    135\u001b[0m         plugin \u001b[38;5;241m=\u001b[39m \u001b[38;5;124m'\u001b[39m\u001b[38;5;124mtifffile\u001b[39m\u001b[38;5;124m'\u001b[39m\n\u001b[1;32m--> 136\u001b[0m \u001b[38;5;28;01mif\u001b[39;00m \u001b[43marr\u001b[49m\u001b[38;5;241;43m.\u001b[39;49m\u001b[43mdtype\u001b[49m \u001b[38;5;241m==\u001b[39m \u001b[38;5;28mbool\u001b[39m:\n\u001b[0;32m    137\u001b[0m     warn(\u001b[38;5;124m'\u001b[39m\u001b[38;5;132;01m%s\u001b[39;00m\u001b[38;5;124m is a boolean image: setting True to 255 and False to 0. \u001b[39m\u001b[38;5;124m'\u001b[39m\n\u001b[0;32m    138\u001b[0m          \u001b[38;5;124m'\u001b[39m\u001b[38;5;124mTo silence this warning, please convert the image using \u001b[39m\u001b[38;5;124m'\u001b[39m\n\u001b[0;32m    139\u001b[0m          \u001b[38;5;124m'\u001b[39m\u001b[38;5;124mimg_as_ubyte.\u001b[39m\u001b[38;5;124m'\u001b[39m \u001b[38;5;241m%\u001b[39m fname, stacklevel\u001b[38;5;241m=\u001b[39m\u001b[38;5;241m2\u001b[39m)\n\u001b[0;32m    140\u001b[0m     arr \u001b[38;5;241m=\u001b[39m arr\u001b[38;5;241m.\u001b[39mastype(\u001b[38;5;124m'\u001b[39m\u001b[38;5;124muint8\u001b[39m\u001b[38;5;124m'\u001b[39m) \u001b[38;5;241m*\u001b[39m \u001b[38;5;241m255\u001b[39m\n",
      "File \u001b[1;32m~\\anaconda3\\lib\\site-packages\\PIL\\Image.py:529\u001b[0m, in \u001b[0;36mImage.__getattr__\u001b[1;34m(self, name)\u001b[0m\n\u001b[0;32m    527\u001b[0m     deprecate(\u001b[38;5;124m\"\u001b[39m\u001b[38;5;124mImage categories\u001b[39m\u001b[38;5;124m\"\u001b[39m, \u001b[38;5;241m10\u001b[39m, \u001b[38;5;124m\"\u001b[39m\u001b[38;5;124mis_animated\u001b[39m\u001b[38;5;124m\"\u001b[39m, plural\u001b[38;5;241m=\u001b[39m\u001b[38;5;28;01mTrue\u001b[39;00m)\n\u001b[0;32m    528\u001b[0m     \u001b[38;5;28;01mreturn\u001b[39;00m \u001b[38;5;28mself\u001b[39m\u001b[38;5;241m.\u001b[39m_category\n\u001b[1;32m--> 529\u001b[0m \u001b[38;5;28;01mraise\u001b[39;00m \u001b[38;5;167;01mAttributeError\u001b[39;00m(name)\n",
      "\u001b[1;31mAttributeError\u001b[0m: dtype"
     ]
    }
   ],
   "source": [
    "w, h = 512, 512\n",
    "data = np.zeros((h, w, 3), dtype=np.uint8)\n",
    "data[0:256, 0:256] = [255, 0, 0] # red patch in upper left\n",
    "img = Image.fromarray(data, mode='I;16')\n",
    "io.imsave('test.tif' ,img)\n",
    "img.show()"
   ]
  },
  {
   "cell_type": "code",
   "execution_count": 5,
   "metadata": {},
   "outputs": [
    {
     "data": {
      "text/plain": [
       "array([0.5, 1. , 2. , 1. , 1. , 1. ])"
      ]
     },
     "execution_count": 5,
     "metadata": {},
     "output_type": "execute_result"
    }
   ],
   "source": [
    "x= np.array([2, 3, 4, 5, 6, 7], np.int32)\n",
    "\n",
    "y= np.array([4, 3, 2, 5, 6, 7])\n",
    "\n",
    "np.divide(x,y)"
   ]
  },
  {
   "cell_type": "code",
   "execution_count": 9,
   "metadata": {},
   "outputs": [
    {
     "data": {
      "text/plain": [
       "array([2, 3, 4, 5, 6, 7])"
      ]
     },
     "execution_count": 9,
     "metadata": {},
     "output_type": "execute_result"
    }
   ],
   "source": [
    "x"
   ]
  },
  {
   "cell_type": "code",
   "execution_count": 6,
   "metadata": {},
   "outputs": [
    {
     "ename": "SyntaxError",
     "evalue": "invalid syntax (1618965654.py, line 1)",
     "output_type": "error",
     "traceback": [
      "\u001b[1;36m  Cell \u001b[1;32mIn[6], line 1\u001b[1;36m\u001b[0m\n\u001b[1;33m    help Image.fromarray\u001b[0m\n\u001b[1;37m         ^\u001b[0m\n\u001b[1;31mSyntaxError\u001b[0m\u001b[1;31m:\u001b[0m invalid syntax\n"
     ]
    }
   ],
   "source": [
    "help Image.fromarray"
   ]
  },
  {
   "cell_type": "code",
   "execution_count": 13,
   "metadata": {},
   "outputs": [
    {
     "name": "stderr",
     "output_type": "stream",
     "text": [
      "[nptdms.tdms_segment WARNING] Data size 314580000 is not a multiple of the chunk size 314572800. Will attempt to read last chunk\n"
     ]
    }
   ],
   "source": [
    "tdms_file = TdmsFile.read(\"T:/Sauvegardes PhD/Microscopy/Microscopy data/iSCAT data/2022/July/5/20220705_177_5ul_min_flow_microchanel_cell_body_0/cam1/event1.tdms\")"
   ]
  },
  {
   "cell_type": "code",
   "execution_count": 23,
   "metadata": {},
   "outputs": [],
   "source": [
    "for group in tdms_file.groups():\n",
    "    group_name = group.name\n",
    "    for channel in group.channels():\n",
    "        channel_name = channel.name\n",
    "        # Access dictionary of properties:\n",
    "        properties = channel.properties\n",
    "        # Access numpy array of data for channel:\n",
    "        data = channel[:]"
   ]
  },
  {
   "cell_type": "code",
   "execution_count": 25,
   "metadata": {},
   "outputs": [
    {
     "data": {
      "text/plain": [
       "600.0137329101562"
      ]
     },
     "execution_count": 25,
     "metadata": {},
     "output_type": "execute_result"
    }
   ],
   "source": [
    "data.size/img_size**2"
   ]
  },
  {
   "cell_type": "code",
   "execution_count": 40,
   "metadata": {},
   "outputs": [
    {
     "name": "stderr",
     "output_type": "stream",
     "text": [
      "C:\\Users\\Lorenzo\\AppData\\Local\\Temp\\ipykernel_13736\\3433565533.py:3: UserWarning: test.tif is a low contrast image\n",
      "  io.imsave('test.tif' ,img_test)\n"
     ]
    }
   ],
   "source": [
    "img_test = data[(img_size**2)*600:].reshape(60, 60)\n",
    "img_ = Image.fromarray(img_test, mode='I;16')\n",
    "io.imsave('test.tif' ,img_test)"
   ]
  },
  {
   "cell_type": "code",
   "execution_count": 39,
   "metadata": {},
   "outputs": [],
   "source": [
    "img_.show()"
   ]
  },
  {
   "cell_type": "code",
   "execution_count": null,
   "metadata": {},
   "outputs": [],
   "source": []
  }
 ],
 "metadata": {
  "kernelspec": {
   "display_name": "Python 3",
   "language": "python",
   "name": "python3"
  },
  "language_info": {
   "codemirror_mode": {
    "name": "ipython",
    "version": 3
   },
   "file_extension": ".py",
   "mimetype": "text/x-python",
   "name": "python",
   "nbconvert_exporter": "python",
   "pygments_lexer": "ipython3",
   "version": "3.8.5"
  }
 },
 "nbformat": 4,
 "nbformat_minor": 4
}
