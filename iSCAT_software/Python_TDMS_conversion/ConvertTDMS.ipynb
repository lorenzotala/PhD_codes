{
 "cells": [
  {
   "cell_type": "code",
   "execution_count": 1,
   "metadata": {},
   "outputs": [
    {
     "name": "stderr",
     "output_type": "stream",
     "text": [
      "[nptdms.tdms_segment WARNING] Data size 52440000 is not a multiple of the chunk size 52428800. Will attempt to read last chunk\n",
      "<ipython-input-1-1e4e366e827c>:26: UserWarning: RawStack.tif is a low contrast image\n",
      "  io.imsave('RawStack.tif' ,img_stack)\n",
      "<ipython-input-1-1e4e366e827c>:34: UserWarning: ProcessedStack.tif is a low contrast image\n",
      "  io.imsave('ProcessedStack.tif' ,processed_stack)\n"
     ]
    },
    {
     "name": "stdout",
     "output_type": "stream",
     "text": [
      "16.024178\n"
     ]
    }
   ],
   "source": [
    "from timeit import default_timer as timer\n",
    "Start = timer()\n",
    "import pandas as pd\n",
    "import numpy as np\n",
    "import os\n",
    "\n",
    "from nptdms import TdmsFile\n",
    "from PIL import Image\n",
    "from skimage import io\n",
    "\n",
    "tdms_file = TdmsFile.read(\"event1.tdms\")\n",
    "for group in tdms_file.groups():\n",
    "    group_name = group.name\n",
    "    for channel in group.channels():\n",
    "        channel_name = channel.name\n",
    "        # Access dictionary of properties:\n",
    "        properties = channel.properties\n",
    "        # Access numpy array of data for channel:\n",
    "        data = channel[:]\n",
    "img_size = int([item[1] for item in list(properties.items()) if 'Image size' in item][0])\n",
    "nb_frames = int(np.round(data.size/(img_size**2)))\n",
    "img_stack = np.zeros((nb_frames,img_size,img_size),np.uint16)\n",
    "for f in range(nb_frames):\n",
    "    #frame_data = data[(img_size**2)*f:(img_size**2)*(f+1)].reshape(img_size, img_size)\n",
    "    img_stack[f, :, :] = data[(img_size**2)*f:(img_size**2)*(f+1)].reshape(img_size, img_size) #Image.fromarray(frame_data, 'I;16')\n",
    "io.imsave('RawStack.tif' ,img_stack)\n",
    "median_img = np.zeros((img_size, img_size), np.float32)\n",
    "for x in range(img_size):\n",
    "    for y in range(img_size):\n",
    "        median_img[x,y] = np.median(img_stack[:,x,y])\n",
    "processed_stack = np.zeros((nb_frames,img_size,img_size),np.float32)\n",
    "for f in range(nb_frames):\n",
    "    processed_stack[f, :, :] = np.divide(img_stack[f, :, :], median_img)-1\n",
    "io.imsave('ProcessedStack.tif' ,processed_stack)\n",
    "End = timer()\n",
    "print(End - Start)"
   ]
  },
  {
   "cell_type": "code",
   "execution_count": 2,
   "metadata": {},
   "outputs": [
    {
     "name": "stderr",
     "output_type": "stream",
     "text": [
      "[nptdms.tdms_segment WARNING] Data size 52440000 is not a multiple of the chunk size 52428800. Will attempt to read last chunk\n",
      "<ipython-input-2-46448fec2085>:16: UserWarning: RawStack.tif is a low contrast image\n",
      "  io.imsave('RawStack.tif' ,img_stack)\n"
     ]
    }
   ],
   "source": [
    "tdms_file = TdmsFile.read(\"event1.tdms\")\n",
    "for group in tdms_file.groups():\n",
    "    group_name = group.name\n",
    "    for channel in group.channels():\n",
    "        channel_name = channel.name\n",
    "        # Access dictionary of properties:\n",
    "        properties = channel.properties\n",
    "        # Access numpy array of data for channel:\n",
    "        data = channel[:]\n",
    "img_size = int([item[1] for item in list(properties.items()) if 'Image size' in item][0])\n",
    "nb_frames = int(np.round(data.size/(img_size**2)))\n",
    "img_stack = np.zeros((nb_frames,img_size,img_size),np.uint16)\n",
    "for f in range(nb_frames):\n",
    "    #frame_data = data[(img_size**2)*f:(img_size**2)*(f+1)].reshape(img_size, img_size)\n",
    "    img_stack[f, :, :] = data[(img_size**2)*f:(img_size**2)*(f+1)].reshape(img_size, img_size) #Image.fromarray(frame_data, 'I;16')\n",
    "io.imsave('RawStack.tif' ,img_stack)\n",
    "median_img = np.zeros((img_size, img_size), np.float32)\n",
    "for x in range(img_size):\n",
    "    for y in range(img_size):\n",
    "        median_img[x,y] = np.median(img_stack[:,x,y])\n",
    "processed_stack = np.zeros((nb_frames,img_size,img_size),np.float32)\n",
    "for f in range(nb_frames):\n",
    "    processed_stack[f, :, :] = np.divide(img_stack[f, :, :], median_img)-1\n",
    "io.imsave('ProcessedStack.tif' ,processed_stack)"
   ]
  },
  {
   "cell_type": "code",
   "execution_count": 3,
   "metadata": {},
   "outputs": [
    {
     "name": "stderr",
     "output_type": "stream",
     "text": [
      "<ipython-input-3-6c73c7f1b495>:8: UserWarning: ProcessedStack.tif is a low contrast image\n",
      "  io.imsave('ProcessedStack.tif' ,processed_stack)\n"
     ]
    }
   ],
   "source": [
    "median_img = np.zeros((img_size, img_size), np.float32)\n",
    "for x in range(img_size):\n",
    "    for y in range(img_size):\n",
    "        median_img[x,y] = np.median(img_stack[:,x,y])\n",
    "processed_stack = np.zeros((nb_frames,img_size,img_size),np.float32)\n",
    "for f in range(nb_frames):\n",
    "    processed_stack[f, :, :] = np.divide(img_stack[f, :, :], median_img)-1\n",
    "io.imsave('ProcessedStack.tif' ,processed_stack)"
   ]
  },
  {
   "cell_type": "code",
   "execution_count": 42,
   "metadata": {},
   "outputs": [],
   "source": [
    "from PIL import Image\n",
    "import numpy as np\n",
    "\n",
    "w, h = 512, 512\n",
    "data = np.zeros((h, w, 3), dtype=np.uint8)\n",
    "data[0:256, 0:256] = [255, 0, 0] # red patch in upper left\n",
    "img = Image.fromarray(data, '16-bits')\n",
    "\n",
    "img.show()"
   ]
  },
  {
   "cell_type": "code",
   "execution_count": 12,
   "metadata": {},
   "outputs": [
    {
     "data": {
      "text/plain": [
       "array([0.5, 1. , 2. , 1. , 1. , 1. ])"
      ]
     },
     "execution_count": 12,
     "metadata": {},
     "output_type": "execute_result"
    }
   ],
   "source": [
    "x= np.array([2, 3, 4, 5, 6, 7], np.int32)\n",
    "\n",
    "y= np.array([4, 3, 2, 5, 6, 7])\n",
    "\n",
    "np.divide(x,y)"
   ]
  },
  {
   "cell_type": "code",
   "execution_count": 9,
   "metadata": {},
   "outputs": [
    {
     "data": {
      "text/plain": [
       "array([2, 3, 4, 5, 6, 7])"
      ]
     },
     "execution_count": 9,
     "metadata": {},
     "output_type": "execute_result"
    }
   ],
   "source": [
    "x"
   ]
  },
  {
   "cell_type": "code",
   "execution_count": null,
   "metadata": {},
   "outputs": [],
   "source": []
  }
 ],
 "metadata": {
  "kernelspec": {
   "display_name": "Python 3",
   "language": "python",
   "name": "python3"
  },
  "language_info": {
   "codemirror_mode": {
    "name": "ipython",
    "version": 3
   },
   "file_extension": ".py",
   "mimetype": "text/x-python",
   "name": "python",
   "nbconvert_exporter": "python",
   "pygments_lexer": "ipython3",
   "version": "3.8.5"
  }
 },
 "nbformat": 4,
 "nbformat_minor": 4
}
